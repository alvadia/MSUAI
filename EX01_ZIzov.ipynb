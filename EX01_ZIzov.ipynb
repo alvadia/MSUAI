{
  "cells": [
    {
      "cell_type": "markdown",
      "metadata": {
        "id": "view-in-github",
        "colab_type": "text"
      },
      "source": [
        "<a href=\"https://colab.research.google.com/github/alvadia/MSUAI/blob/main/EX01_Intro.ipynb\" target=\"_parent\"><img src=\"https://colab.research.google.com/assets/colab-badge.svg\" alt=\"Open In Colab\"/></a>"
      ]
    },
    {
      "cell_type": "markdown",
      "metadata": {
        "id": "Sm6gSUeoG6KR"
      },
      "source": [
        "# Задание 1. Загрузка данных и визуализация"
      ]
    },
    {
      "cell_type": "markdown",
      "metadata": {
        "id": "xhxBXbaTG6KY"
      },
      "source": [
        "В этом задании мы познакомимся подробнее с тем, как работать с табличными данными и визуализировать их."
      ]
    },
    {
      "cell_type": "markdown",
      "metadata": {
        "id": "g071cp4NG6KZ"
      },
      "source": [
        "Импорт необходимых библиотек:"
      ]
    },
    {
      "cell_type": "code",
      "execution_count": null,
      "metadata": {
        "id": "U0CYbkwmG6KZ"
      },
      "outputs": [],
      "source": [
        "import numpy as np\n",
        "import pandas as pd\n",
        "import seaborn as sns\n",
        "import matplotlib.pyplot as plt\n",
        "from sklearn.datasets import load_wine"
      ]
    },
    {
      "cell_type": "markdown",
      "metadata": {
        "id": "pX0TPVFeG6Kc"
      },
      "source": [
        "Загрузите [Wine Data Set](https://archive.ics.uci.edu/ml/datasets/wine)\n",
        "\n",
        "Удобный способ сделать это — использовать модуль [sklearn.datasets](https://scikit-learn.org/stable/modules/generated/sklearn.datasets.load_wine.html)."
      ]
    },
    {
      "cell_type": "code",
      "execution_count": null,
      "metadata": {
        "id": "ul2UkJ7lG6Kc"
      },
      "outputs": [],
      "source": [
        "# Download dataset\n",
        "data, labels = load_wine(return_X_y=True, as_frame=True)"
      ]
    },
    {
      "cell_type": "markdown",
      "metadata": {
        "id": "4k3_5su6G6Kd"
      },
      "source": [
        "И `data`, и `labels` — это N-мерные массивы. **Посмотрите, какие у них размеры**"
      ]
    },
    {
      "cell_type": "code",
      "execution_count": null,
      "metadata": {
        "id": "ujNan5Y9G6Ke"
      },
      "outputs": [],
      "source": [
        "# Your code here\n"
      ]
    },
    {
      "cell_type": "markdown",
      "metadata": {
        "id": "dURyVYTpG6Kf"
      },
      "source": [
        "И какие метки классов представлены."
      ]
    },
    {
      "cell_type": "code",
      "execution_count": null,
      "metadata": {
        "id": "Z6ipgIvwG6Kg"
      },
      "outputs": [],
      "source": [
        "# Your code here\n"
      ]
    },
    {
      "cell_type": "markdown",
      "metadata": {
        "id": "Pgbqh1nmG6Kh"
      },
      "source": [
        "Выведем первые 3 строки датасета."
      ]
    },
    {
      "cell_type": "code",
      "execution_count": null,
      "metadata": {
        "id": "skbGPw9aG6Kh"
      },
      "outputs": [],
      "source": [
        "data.head(3)"
      ]
    },
    {
      "cell_type": "markdown",
      "metadata": {
        "id": "s4dhcqSTG6Ki"
      },
      "source": [
        "По умолчанию Pandas выводит всего 20 столбцов и 60 строк, поэтому если ваш датафрейм больше, воспользуйтесь функцией `set_option`:\n",
        "\n",
        "```\n",
        "pd.set_option('display.max_columns', 200)\n",
        "pd.set_option('display.max_rows', 100)\n",
        "pd.set_option('display.min_rows', 100)\n",
        "pd.set_option('display.expand_frame_repr', True)\n",
        "```\n",
        "\n",
        "Текущее значение параметра можно вывести подобным образом:\n",
        "\n",
        "```\n",
        "pd.get_option(\"display.max_rows\")\n",
        "```\n",
        "\n",
        "Выведите, какие значения сейчас, и поменяйте их так, чтобы открывался весь датафрейм."
      ]
    },
    {
      "cell_type": "code",
      "execution_count": null,
      "metadata": {
        "id": "Prz5fMosG6Ki"
      },
      "outputs": [],
      "source": [
        "# Your code here"
      ]
    },
    {
      "cell_type": "code",
      "execution_count": null,
      "metadata": {
        "id": "p0ViFTcpG6Kj"
      },
      "outputs": [],
      "source": [
        "# Your code here\n"
      ]
    },
    {
      "cell_type": "markdown",
      "metadata": {
        "id": "GIBKmcWqG6Kk"
      },
      "source": [
        "Верните значения обратно к тем, что были по умолчанию."
      ]
    },
    {
      "cell_type": "code",
      "execution_count": null,
      "metadata": {
        "id": "4fcNV4XrG6Kk"
      },
      "outputs": [],
      "source": [
        "# Your code here"
      ]
    },
    {
      "cell_type": "markdown",
      "metadata": {
        "id": "v8hj_fIKG6Kl"
      },
      "source": [
        "Выведем названия столбцов:"
      ]
    },
    {
      "cell_type": "code",
      "execution_count": null,
      "metadata": {
        "id": "-VTsqbB6G6Kl"
      },
      "outputs": [],
      "source": [
        "print(data.columns)"
      ]
    },
    {
      "cell_type": "markdown",
      "metadata": {
        "id": "JLPvokdWG6Km"
      },
      "source": [
        "Чтобы посмотреть общую информацию по датафрейму и всем признакам, воспользуемся методом `info`:"
      ]
    },
    {
      "cell_type": "code",
      "execution_count": null,
      "metadata": {
        "id": "Jv1oi47UG6Km"
      },
      "outputs": [],
      "source": [
        "print(data.info())"
      ]
    },
    {
      "cell_type": "markdown",
      "metadata": {
        "id": "LbQbT7ODG6Km"
      },
      "source": [
        "В нашем случае все колонки имеют тип `float64`.\n",
        "\n",
        "* **float64**: число с плавающей точкой от $4.9*10^{-324}$ до $1.8*10^{308}$, занимает 8 байт.\n",
        "\n",
        "Кажется избыточным с учетом разброса значений в колонках. Кстати, какой он? Посмотрим на первые три колонки. Если убрать имена столбцов, то будет выведена вся статистика.\n",
        "\n",
        "[NumPy Standard Data Types](https://jakevdp.github.io/PythonDataScienceHandbook/02.01-understanding-data-types.html#NumPy-Standard-Data-Types)"
      ]
    },
    {
      "cell_type": "code",
      "execution_count": null,
      "metadata": {
        "id": "R5tuwSMfG6Kn"
      },
      "outputs": [],
      "source": [
        "data[['alcohol','malic_acid','ash']].describe()"
      ]
    },
    {
      "cell_type": "markdown",
      "metadata": {
        "id": "UblSEnGyG6Kn"
      },
      "source": [
        "Метод `describe` показывает основные статистические характеристики данных по каждому *числовому признаку*: число непропущенных значений, среднее, стандартное отклонение, диапазон, медиану, 0.25 и 0.75 квартили.\n",
        "\n",
        "**Изменить тип колонки** можно с помощью метода `astype`. Применим этот метод к признаку *alcohol* и переведём его в int16:"
      ]
    },
    {
      "cell_type": "code",
      "execution_count": null,
      "metadata": {
        "id": "_CXzDvekG6Kn"
      },
      "outputs": [],
      "source": [
        "data['alcohol'] = data['alcohol'].astype('int16')"
      ]
    },
    {
      "cell_type": "markdown",
      "metadata": {
        "id": "tQAwBuUnG6Kn"
      },
      "source": [
        "Переведите остальные признаки в подходящие типы и проверьте, что типы поменялись."
      ]
    },
    {
      "cell_type": "code",
      "execution_count": null,
      "metadata": {
        "id": "FLC_rfWQG6Ko"
      },
      "outputs": [],
      "source": [
        "# Your code here"
      ]
    },
    {
      "cell_type": "markdown",
      "metadata": {
        "id": "R9GDXABMG6Ko"
      },
      "source": [
        "**Сортировка**\n",
        "\n",
        "DataFrame можно отсортировать по значению какого-нибудь из признаков. Например, по *alcohol* (`ascending=False` для сортировки по убыванию):"
      ]
    },
    {
      "cell_type": "code",
      "execution_count": null,
      "metadata": {
        "id": "tOggnEu2G6Ko"
      },
      "outputs": [],
      "source": [
        "data.sort_values(by='alcohol', ascending=False).head()"
      ]
    },
    {
      "cell_type": "markdown",
      "metadata": {
        "id": "Oz4ms7xoG6Ko"
      },
      "source": [
        "Сортировать можно и по группе столбцов, подав список с названиями. Попробуйте."
      ]
    },
    {
      "cell_type": "code",
      "execution_count": null,
      "metadata": {
        "id": "Z0to2p08G6Ko"
      },
      "outputs": [],
      "source": [
        "# Your code here"
      ]
    },
    {
      "cell_type": "markdown",
      "metadata": {
        "id": "zvut8t4nG6Ko"
      },
      "source": [
        "**Индексация и извлечение данных**\n",
        "\n",
        "DataFrame можно индексировать по-разному. Для извлечения отдельного столбца можно использовать конструкцию вида `DataFrame['Name']`. Для логической индексации — `df[P(df['Name'])]`, где $P$ — это некоторое логическое условие, проверяемое для каждого элемента столбца *Name*.\n",
        "\n",
        "Воспользуемся этим для ответа на вопрос: какое среднее содержание магния в алкоголе с крепостью ниже $12\\%$?"
      ]
    },
    {
      "cell_type": "code",
      "execution_count": null,
      "metadata": {
        "id": "oU6pIWmaG6Kp"
      },
      "outputs": [],
      "source": [
        "data['magnesium'][data['alcohol'] <= 12].mean()"
      ]
    },
    {
      "cell_type": "markdown",
      "metadata": {
        "id": "ZR-ow1VoG6Kp"
      },
      "source": [
        "Pandas позволяет комбинировать условия через логические операции. Сформулируйте какое-нибудь составное условие."
      ]
    },
    {
      "cell_type": "code",
      "execution_count": null,
      "metadata": {
        "id": "RVwuxqzgG6Kp"
      },
      "outputs": [],
      "source": [
        "# Your code here"
      ]
    },
    {
      "cell_type": "markdown",
      "metadata": {
        "id": "ohjBStvtG6Kp"
      },
      "source": [
        "**Применение функций к ячейкам, столбцам и строкам**\n",
        "\n",
        "Применение функции **к каждому столбцу**: `apply`.\n",
        "\n",
        "\n"
      ]
    },
    {
      "cell_type": "code",
      "execution_count": null,
      "metadata": {
        "id": "sP06z0GVG6Kp"
      },
      "outputs": [],
      "source": [
        "data.apply(np.max)"
      ]
    },
    {
      "cell_type": "markdown",
      "metadata": {
        "id": "heeuAWxhG6Kq"
      },
      "source": [
        "Метод apply можно использовать и для того, чтобы применить функцию к каждой строке. Для этого нужно указать `axis=1`. Попробуйте."
      ]
    },
    {
      "cell_type": "code",
      "execution_count": null,
      "metadata": {
        "id": "07KNBTgdG6Kq"
      },
      "outputs": [],
      "source": [
        "# Your code here"
      ]
    },
    {
      "cell_type": "markdown",
      "metadata": {
        "id": "VhT5oXjWG6K9"
      },
      "source": [
        "Применение функции **к каждой ячейке** столбца: `map`.\n",
        "\n",
        "Например, метод map можно использовать для замены значений в колонке, передав ему в качестве аргумента словарь вида `{old_value: new_value}`."
      ]
    },
    {
      "cell_type": "code",
      "execution_count": null,
      "metadata": {
        "id": "lBUiLVqPG6K9"
      },
      "outputs": [],
      "source": [
        "d = {2 : 'low', 3 : 'low'}\n",
        "data['ash'] = data['ash'].map(d)\n",
        "data.head(2)"
      ]
    },
    {
      "cell_type": "markdown",
      "metadata": {
        "id": "yFCkhrIYG6K9"
      },
      "source": [
        "Попробуйте какую-нибудь свою замену. Например, вы можете подать **lambda-функцию**.\n",
        "\n",
        "[Лямбда-функции в Python](https://habr.com/ru/companies/piter/articles/674234/)"
      ]
    },
    {
      "cell_type": "code",
      "execution_count": null,
      "metadata": {
        "id": "c-ImrmPKG6K-"
      },
      "outputs": [],
      "source": [
        "# Your code here"
      ]
    },
    {
      "cell_type": "markdown",
      "metadata": {
        "id": "015oTtLdG6K-"
      },
      "source": [
        "**Группировка данных**\n",
        "\n",
        "В общем случае группировка данных в Pandas выглядит следующим образом:\n",
        "\n",
        "`df.groupby(by=grouping_columns)[columns_to_show].function()`\n",
        "\n",
        "Например, выведем статистики по трём столбцам в зависимости от значения признака alcohol."
      ]
    },
    {
      "cell_type": "code",
      "execution_count": null,
      "metadata": {
        "id": "8QM75MBKG6K-"
      },
      "outputs": [],
      "source": [
        "columns_to_show = ['malic_acid', 'total_phenols', 'proanthocyanins']\n",
        "\n",
        "data.groupby(['alcohol'])[columns_to_show].describe(percentiles=[])"
      ]
    },
    {
      "cell_type": "markdown",
      "metadata": {
        "id": "YeEPW9xAG6K_"
      },
      "source": [
        "Сделаем то же самое, но немного по-другому, передав в agg список функций:"
      ]
    },
    {
      "cell_type": "code",
      "execution_count": null,
      "metadata": {
        "id": "XP13o4EMG6K_"
      },
      "outputs": [],
      "source": [
        "data.groupby(['alcohol'])[columns_to_show].agg([np.mean, np.std, np.min, np.max])"
      ]
    },
    {
      "cell_type": "markdown",
      "metadata": {
        "id": "UxT5mAkgG6LA"
      },
      "source": [
        "Когда данных много, просто смотреть на цифры крайне неинформативно.\n",
        "\n",
        "Для визуализации данных в этом курсе мы будем использовать библиотеку `matplotlib`. **Давайте её импортируем**."
      ]
    },
    {
      "cell_type": "code",
      "execution_count": null,
      "metadata": {
        "id": "w041fMp1G6LA"
      },
      "outputs": [],
      "source": [
        "import matplotlib.pyplot as plt\n",
        "\n",
        "fig, axs = plt.subplots(figsize=(4,3))\n",
        "labels.hist()\n",
        "plt.suptitle(\"Label balance\")\n",
        "plt.show()"
      ]
    },
    {
      "cell_type": "markdown",
      "metadata": {
        "id": "pFdViCC3G6LA"
      },
      "source": [
        "Объединим данные и метки в один фрейм. Нам это потребуется для упрощения визуализации."
      ]
    },
    {
      "cell_type": "code",
      "execution_count": null,
      "metadata": {
        "id": "pTQN2GdMG6LA"
      },
      "outputs": [],
      "source": [
        "df = pd.concat([data, labels], axis=1)"
      ]
    },
    {
      "cell_type": "markdown",
      "metadata": {
        "id": "GZ-Jy8ZaG6LB"
      },
      "source": [
        "Теперь мы можем посмотреть, как меняется средняя крепость алкоголя в зависимости от значения метки в *target*. Реализация функции `plot` в `pandas` основана на библиотеке `matplotlib`.\n",
        "\n",
        "Здесь `show()` позволяет нам убрать служебные сообщения."
      ]
    },
    {
      "cell_type": "code",
      "execution_count": null,
      "metadata": {
        "id": "NxECTuhyG6LB"
      },
      "outputs": [],
      "source": [
        "df.groupby('target')['alcohol'].mean().plot(legend=True)\n",
        "plt.show()"
      ]
    },
    {
      "cell_type": "markdown",
      "metadata": {
        "id": "YPYnZU8QG6LC"
      },
      "source": [
        "C помощью параметра kind можно изменить тип графика, например, на **bar chart**. `Matplotlib` позволяет очень гибко настраивать графики. На графике можно изменить почти все, что угодно, но потребуется порыться в документации и найти нужные параметры. Например, параметр `rot` отвечает за угол наклона подписей к оси `x`"
      ]
    },
    {
      "cell_type": "code",
      "execution_count": null,
      "metadata": {
        "id": "qrLQi0C6G6LC"
      },
      "outputs": [],
      "source": [
        "df.groupby('target')['alcohol'].mean().plot(kind='bar', legend=True, rot=45)\n",
        "plt.show()"
      ]
    },
    {
      "cell_type": "markdown",
      "metadata": {
        "id": "kp2tQSj8G6LC"
      },
      "source": [
        "**Seaborn**\n",
        "\n",
        "Теперь давайте перейдем к библиотеке `seaborn`. `Seaborn` — более высокоуровневое API на базе библиотеки `matplotlib`. `Seaborn` содержит более адекватные дефолтные настройки оформления графиков. Также в библиотеке есть достаточно сложные типы визуализации, которые в `matplotlib` потребовали бы большого количество кода."
      ]
    },
    {
      "cell_type": "markdown",
      "metadata": {
        "id": "xfYUXcwzG6LD"
      },
      "source": [
        "Познакомимся с первым таким \"сложным\" типом графиков pair plot (scatter plot matrix). Эта визуализация поможет нам посмотреть на одной картинке, как связаны между собой различные признаки."
      ]
    },
    {
      "cell_type": "code",
      "execution_count": null,
      "metadata": {
        "id": "W_7Gsk8JG6LD"
      },
      "outputs": [],
      "source": [
        "import seaborn as sns\n",
        "\n",
        "data, labels = load_wine(return_X_y=True, as_frame=True)\n",
        "df = pd.concat([data, labels], axis=1)\n",
        "cols = ['alcohol', 'malic_acid', 'ash', 'target']\n",
        "sns_plot = sns.pairplot(df[cols])\n",
        "sns_plot.savefig('pairplot.png')"
      ]
    },
    {
      "cell_type": "markdown",
      "metadata": {
        "id": "YrKt6UJVG6LE"
      },
      "source": [
        "Как можно видеть, на диагонали матрицы графиков расположены гистограммы распределений признака. Остальные же графики — это обычные `scatter plots` для соответствующих пар признаков.\n",
        "\n",
        "Для сохранения графиков в файлы стоит использовать метод `savefig`.\n",
        "\n",
        "Выведите аналогичный график по иным 5 колонкам."
      ]
    },
    {
      "cell_type": "code",
      "execution_count": null,
      "metadata": {
        "id": "7lgz8QbgG6LE"
      },
      "outputs": [],
      "source": [
        "# Your code here\n"
      ]
    },
    {
      "cell_type": "markdown",
      "metadata": {
        "id": "6cWkmcUoG6LF"
      },
      "source": [
        "С помощью `seaborn` можно построить и распределение dist plot. Для примера посмотрим на распределение `color_intensity`. Обратите внимание, что так тоже можно обращаться к колонкам."
      ]
    },
    {
      "cell_type": "code",
      "execution_count": null,
      "metadata": {
        "id": "3oKOKPO_G6LF"
      },
      "outputs": [],
      "source": [
        "sns.histplot(df.color_intensity, kde=True)\n",
        "plt.show()"
      ]
    },
    {
      "cell_type": "markdown",
      "metadata": {
        "id": "1VV7Kx_NG6LF"
      },
      "source": [
        "Для того, чтобы подробнее посмотреть на взаимосвязь двух численных признаков, есть еще и `joint plot` — это гибрид `scatter plot` и `histogram`. Посмотрим на то, как связаны между собой 5 наиболее крепких напитков и `flavanoids`."
      ]
    },
    {
      "cell_type": "code",
      "execution_count": null,
      "metadata": {
        "id": "FV_kHDm-G6LG"
      },
      "outputs": [],
      "source": [
        "top_alcohol = df.alcohol.value_counts().sort_values(ascending = False).head(5).index.values\n",
        "sns.boxplot(y=\"alcohol\", x=\"flavanoids\", data=df[df.alcohol.isin(top_alcohol)], orient=\"h\")\n",
        "plt.show()"
      ]
    },
    {
      "cell_type": "markdown",
      "metadata": {
        "id": "d28OsbzJG6LG"
      },
      "source": [
        "`Box plot` состоит из коробки (поэтому он и называется `box plot`), усов и точек (иначе его называют *ящик с усами*). Коробка показывает интерквартильный размах распределения, то есть соответственно 25% (Q1) и 75% (Q3) перцентили. Черта внутри коробки обозначает медиану распределения.\n",
        "\n",
        "Усы отображают весь разброс точек кроме выбросов, то есть минимальные и максимальные значения, которые попадают в промежуток ($Q1 - 1.5*IQR$, $Q3 + 1.5*IQR$), где $IQR = Q3 - Q1$ — интерквартильный размах. Точками на графике обозначаются выбросы (outliers) — те значения, которые не вписываются в промежуток значений, заданный усами графика.\n",
        "\n",
        "[[wiki] Box plot](https://en.wikipedia.org/wiki/Box_plot)"
      ]
    },
    {
      "cell_type": "markdown",
      "metadata": {
        "id": "K1qO6NEDG6LH"
      },
      "source": [
        "**Постройте свой ящик с усами!** Для этого выберите какую-нибудь подвыборку данных, которую можно визуально анализировать."
      ]
    },
    {
      "cell_type": "code",
      "execution_count": null,
      "metadata": {
        "id": "x_NRhhhcG6LH"
      },
      "outputs": [],
      "source": [
        "# Your code here"
      ]
    },
    {
      "cell_type": "markdown",
      "metadata": {
        "id": "dFcAuL2VG6LH"
      },
      "source": [
        "Последний график, который рассмотрим в этом задании — это **heat map**. Сгруппируем значения крепости в 5 бинов (примерно такой же подход при построении гистограмм), и посмотрим на распределение численного признака (`proanthocyanins`) по двум категориальным."
      ]
    },
    {
      "cell_type": "code",
      "execution_count": null,
      "metadata": {
        "id": "NJFa28nyG6LI"
      },
      "outputs": [],
      "source": [
        "df['alcoholGroup'] = pd.cut(df['alcohol'], bins=5)"
      ]
    },
    {
      "cell_type": "code",
      "execution_count": null,
      "metadata": {
        "id": "RfwsYVnDG6LI"
      },
      "outputs": [],
      "source": [
        "platform_genre_sales = df.pivot_table(\n",
        "                        index='target',\n",
        "                        columns='alcoholGroup',\n",
        "                        values='proanthocyanins',\n",
        "                        aggfunc=sum).fillna(0).applymap(float)\n",
        "sns.heatmap(platform_genre_sales, annot=True, fmt=\".1f\", linewidths=.05)\n",
        "plt.show()"
      ]
    },
    {
      "cell_type": "markdown",
      "metadata": {
        "id": "D363J9jgG6LJ"
      },
      "source": [
        "Постройте аналогичную тепловую карту. Быть может, вы ожидаете какие-то закономерности?"
      ]
    },
    {
      "cell_type": "code",
      "execution_count": null,
      "metadata": {
        "id": "lrTDOQpvG6LJ"
      },
      "outputs": [],
      "source": [
        "# Your code here"
      ]
    },
    {
      "cell_type": "markdown",
      "metadata": {
        "id": "w0v4GgHiG6LK"
      },
      "source": [
        "В дальнейших лекциях и заданиях на основе подобных визуализаций и подсчётов вы будете производить разведочный анализ и строить гипотезы о том, какой **baseline** можно получить, выведя грубую (или не очень) связь между данными и целевой переменной."
      ]
    },
    {
      "cell_type": "markdown",
      "source": [
        "В следующем задании вы продложите анализ датасета."
      ],
      "metadata": {
        "id": "JMv3Kd_FvMZB"
      }
    },
    {
      "cell_type": "markdown",
      "metadata": {
        "id": "xx6ydPFWG6LK"
      },
      "source": [
        "## Формат результата"
      ]
    },
    {
      "cell_type": "markdown",
      "metadata": {
        "id": "46FE6nVIG6LK"
      },
      "source": [
        "Результат выполнения — таблицы и графики."
      ]
    },
    {
      "cell_type": "markdown",
      "metadata": {
        "id": "AjibPoQ5G6LL"
      },
      "source": [
        "# Задание 2. Алгоритм Nearest Neighbors"
      ]
    },
    {
      "cell_type": "markdown",
      "metadata": {
        "id": "LBLaMH4dG6LL"
      },
      "source": [
        "Хотя в лекции дан пример для изображений, реализация для табличных данных будет проще либо вообще может не отличаться от предложенной. В данном задании требуется самостоятельно реализовать алгоритм k-NN и применить его.\n",
        "\n",
        "P.S. Nearest Neighbor — это k-Nearest Neighbors при $k = 1$."
      ]
    },
    {
      "cell_type": "markdown",
      "metadata": {
        "id": "s22QTmzaG6LL"
      },
      "source": [
        "Импорт необходимых библиотек:"
      ]
    },
    {
      "cell_type": "code",
      "execution_count": null,
      "metadata": {
        "id": "8ChUEZeQG6LM"
      },
      "outputs": [],
      "source": [
        "import numpy as np\n",
        "from sklearn.datasets import load_wine\n",
        "from sklearn.model_selection import train_test_split"
      ]
    },
    {
      "cell_type": "markdown",
      "metadata": {
        "id": "m_xqWhffG6LN"
      },
      "source": [
        "Загрузим датасет:"
      ]
    },
    {
      "cell_type": "code",
      "execution_count": null,
      "metadata": {
        "id": "BtIS_Y8gG6LN"
      },
      "outputs": [],
      "source": [
        "# Download dataset\n",
        "data, labels = load_wine(return_X_y=True)"
      ]
    },
    {
      "cell_type": "markdown",
      "metadata": {
        "id": "9ULnbhnbG6LN"
      },
      "source": [
        "Разбейте ваши данные на тренировочную, валидационную и тестовую подвыборки.\n",
        "\n",
        "Вам пригодится метод `train_test_split()`. Выделите на обучение $60\\%$ данных, не забудьте про фиксирование `seed` генератора и *стратификацию* (параметры `random_state=42`, `stratify`)."
      ]
    },
    {
      "cell_type": "code",
      "execution_count": null,
      "metadata": {
        "id": "xfhbLwjlG6LO"
      },
      "outputs": [],
      "source": [
        "x_train, x_, y_train, y_ = # Your code here"
      ]
    },
    {
      "cell_type": "code",
      "execution_count": null,
      "metadata": {
        "id": "6YNNI9LsG6LR"
      },
      "outputs": [],
      "source": [
        "print(\"x_train\", x_train.shape)\n",
        "print(\"x_test\", x_val.shape)\n",
        "print(\"x_test\", x_test.shape)"
      ]
    },
    {
      "cell_type": "markdown",
      "metadata": {
        "id": "17mYqV--G6LS"
      },
      "source": [
        "Напишите функцию, которая считает расстояние L1 между 2-мя векторами.\n"
      ]
    },
    {
      "cell_type": "code",
      "execution_count": null,
      "metadata": {
        "id": "oomFcOFuG6LS"
      },
      "outputs": [],
      "source": [
        "def compute_L1(a, b):\n",
        "    return  # Your code here"
      ]
    },
    {
      "cell_type": "markdown",
      "metadata": {
        "id": "DCJYKwNEG6LS"
      },
      "source": [
        "Возьмите первую строку из валидационного набора. Посчитайте расстояние L1 от нее до всех строк тренировочного набора.\n",
        "\n",
        "В простейшем виде напишите `for loop`. Если вы знаете, что вы делаете, можете использовать *векторизацию*."
      ]
    },
    {
      "cell_type": "code",
      "execution_count": null,
      "metadata": {
        "id": "yb6fV7ZGG6LT"
      },
      "outputs": [],
      "source": [
        "# Your code here\n",
        "\n",
        "distances ="
      ]
    },
    {
      "cell_type": "markdown",
      "metadata": {
        "id": "qDxOHD9ZG6LT"
      },
      "source": [
        "Найдите индекс минимального расстояния.\n",
        "\n",
        "Используйте `np.argmin()`."
      ]
    },
    {
      "cell_type": "code",
      "execution_count": null,
      "metadata": {
        "id": "VELp08t9G6LT"
      },
      "outputs": [],
      "source": [
        "indx = # Your code here"
      ]
    },
    {
      "cell_type": "markdown",
      "metadata": {
        "id": "DF2bKkAeG6LT"
      },
      "source": [
        "Выведите первый объект в валидационном наборе и объект, который максимально на него похож в тренировочном (по минимальному расстоянию)."
      ]
    },
    {
      "cell_type": "code",
      "execution_count": null,
      "metadata": {
        "id": "n-MwprE8G6LU"
      },
      "outputs": [],
      "source": [
        "# Your code here"
      ]
    },
    {
      "cell_type": "markdown",
      "metadata": {
        "id": "GRrFEtkgG6LU"
      },
      "source": [
        "Выведите их метки"
      ]
    },
    {
      "cell_type": "code",
      "execution_count": null,
      "metadata": {
        "id": "AShMU4YPG6LU"
      },
      "outputs": [],
      "source": [
        "# Your code here"
      ]
    },
    {
      "cell_type": "markdown",
      "metadata": {
        "id": "36vI-51rG6LV"
      },
      "source": [
        "Напишите функцию для рассчёта двумерного массива расстояний между двумя выборками (от каждого объекта в первой выборке до каждого объекта во второй выборке).\n",
        "\n",
        "Рекомендуем заранее создать массив расстояний и заполнить его каким-нибудь очень маленьким числом (например, `np.inf`). Так вы сразу будете отлаживать алгоритм по размерности, а ещё это не будет требовать повторных выделений памяти при росте размера массива."
      ]
    },
    {
      "cell_type": "code",
      "execution_count": null,
      "metadata": {
        "id": "98d93XTiG6LV"
      },
      "outputs": [],
      "source": [
        "def compute_distances(train, sub, distance_func):\n",
        "    # Your code here\n",
        "\n",
        "    return distances"
      ]
    },
    {
      "cell_type": "code",
      "execution_count": null,
      "metadata": {
        "id": "B3hD03HOG6LV"
      },
      "outputs": [],
      "source": [
        "distances = compute_distances(x_train, x_val, compute_L1)"
      ]
    },
    {
      "cell_type": "code",
      "execution_count": null,
      "metadata": {
        "id": "PDa5Pyx3G6LW"
      },
      "outputs": [],
      "source": [
        "distances.shape"
      ]
    },
    {
      "cell_type": "markdown",
      "metadata": {
        "id": "O6aZ95cEG6LW"
      },
      "source": [
        "Определите точность Nearest Neighbors классификации на **валидационном** наборе.\n",
        "\n",
        "Для этого найдите индекс минимального значения для каждой строки массива distances."
      ]
    },
    {
      "cell_type": "code",
      "execution_count": null,
      "metadata": {
        "id": "6swYUSwVG6LW"
      },
      "outputs": [],
      "source": [
        "indx_distances = # Your code here"
      ]
    },
    {
      "cell_type": "markdown",
      "metadata": {
        "id": "L677sSzOG6LX"
      },
      "source": [
        "Теперь создадим массив `predicted_class`"
      ]
    },
    {
      "cell_type": "code",
      "execution_count": null,
      "metadata": {
        "id": "32qX1aXeG6LX"
      },
      "outputs": [],
      "source": [
        "predicted_class = y_train[indx_distances]"
      ]
    },
    {
      "cell_type": "markdown",
      "metadata": {
        "id": "2DQwukt7G6LX"
      },
      "source": [
        "И посмотрим, где класс предсказан правильно, а где нет."
      ]
    },
    {
      "cell_type": "code",
      "execution_count": null,
      "metadata": {
        "id": "NyBcQaFlG6LY"
      },
      "outputs": [],
      "source": [
        "y_val == predicted_class"
      ]
    },
    {
      "cell_type": "markdown",
      "metadata": {
        "id": "w0mXjucUG6LY"
      },
      "source": [
        "**Посчитайте точность (accuracy)**\n",
        "\n",
        "В Python с булевыми значениями можно производить математические операции (`True = 1, False = 0`). Значение accuracy должно быть более $65\\%$."
      ]
    },
    {
      "cell_type": "code",
      "execution_count": null,
      "metadata": {
        "id": "tL1aXGB8G6LY"
      },
      "outputs": [],
      "source": [
        "accuracy_val = # Your code here\n",
        "print(f'Accuracy = {accuracy_val * 100:.1f}%')"
      ]
    },
    {
      "cell_type": "markdown",
      "metadata": {
        "id": "e3BLYHkKG6LY"
      },
      "source": [
        "**Посчитайте точность (accuracy) для тестового набора**"
      ]
    },
    {
      "cell_type": "code",
      "execution_count": null,
      "metadata": {
        "id": "4R0MEYyAG6LZ"
      },
      "outputs": [],
      "source": [
        "# Your code here"
      ]
    },
    {
      "cell_type": "code",
      "execution_count": null,
      "metadata": {
        "id": "bYrKnlPTG6LZ"
      },
      "outputs": [],
      "source": [
        "print(f\"Accuracy = {accuracy_test * 100:.1f}%\")"
      ]
    },
    {
      "cell_type": "markdown",
      "metadata": {
        "id": "yEwRQEqnG6LZ"
      },
      "source": [
        "Повторите все этапы классификации, однако в этот раз **стандартизируйте** данные перед этим. Величина accuracy должна увеличиться."
      ]
    },
    {
      "cell_type": "code",
      "execution_count": null,
      "metadata": {
        "id": "hswzl-piG6La"
      },
      "outputs": [],
      "source": [
        "# Your code here"
      ]
    },
    {
      "cell_type": "code",
      "execution_count": null,
      "metadata": {
        "id": "iKEguidbG6La"
      },
      "outputs": [],
      "source": [
        "distances = # Your code here"
      ]
    },
    {
      "cell_type": "code",
      "execution_count": null,
      "metadata": {
        "id": "uga4DQOaG6La"
      },
      "outputs": [],
      "source": [
        "min_distances = # Your code here\n",
        "predicted_class = # Your code here\n",
        "accuracy_val = # Your code here\n",
        "print(f'Accuracy = {accuracy_val * 100:.1f}%')"
      ]
    },
    {
      "cell_type": "markdown",
      "metadata": {
        "id": "_HG90dRIG6La"
      },
      "source": [
        "**Посчитайте точность (accuracy) для тестового набора**\n",
        "\n",
        "Теперь учтём, что у нас осталась **тестовая подвыборка**. Проведите необходимые операции и посчитайте accuracy на ней.  "
      ]
    },
    {
      "cell_type": "code",
      "execution_count": null,
      "metadata": {
        "id": "_JHayAXMG6La"
      },
      "outputs": [],
      "source": [
        "# Your code here"
      ]
    },
    {
      "cell_type": "code",
      "execution_count": null,
      "metadata": {
        "id": "KJlEt3UgG6Lb"
      },
      "outputs": [],
      "source": [
        "print(f\"Accuracy = {accuracy_test * 100:.1f}%\")"
      ]
    },
    {
      "cell_type": "markdown",
      "metadata": {
        "id": "Y7ygcbKuG6Lb"
      },
      "source": [
        "Каков результат? Как вы думаете, почему?"
      ]
    },
    {
      "cell_type": "markdown",
      "source": [
        "**Дополнительно**\n",
        "\n",
        "Мы использовали accuracy. Как вы помните из лекции, это не самая оптимальная метрика. Попробуйте применить иные метрики."
      ],
      "metadata": {
        "id": "F3DFb0pxwx50"
      }
    },
    {
      "cell_type": "markdown",
      "metadata": {
        "id": "fDKfrzvRG6Lb"
      },
      "source": [
        "## Формат результата"
      ]
    },
    {
      "cell_type": "markdown",
      "metadata": {
        "id": "CVSd7AjaG6Lb"
      },
      "source": [
        "Получить значения метрик."
      ]
    },
    {
      "cell_type": "markdown",
      "metadata": {
        "id": "WH7XLtDPG6Lc"
      },
      "source": [
        "# Задание 3. Nearest Neighbors для картинок"
      ]
    },
    {
      "cell_type": "markdown",
      "metadata": {
        "id": "pLKdU1EOG6Lc"
      },
      "source": [
        "В этом задании вы будете применять написанный в задании 2 алгоритм k-NN для работы с картинками."
      ]
    },
    {
      "cell_type": "markdown",
      "metadata": {
        "id": "LzlwYS6-G6Lc"
      },
      "source": [
        "Импорт необходимых библиотек:"
      ]
    },
    {
      "cell_type": "code",
      "execution_count": null,
      "metadata": {
        "id": "hodDxbgtG6Lc"
      },
      "outputs": [],
      "source": [
        "import numpy as np\n",
        "import matplotlib.pyplot as plt\n",
        "from scipy.stats import mode\n",
        "from tqdm.notebook import tqdm\n",
        "from torchvision import datasets\n",
        "from sklearn.model_selection import train_test_split"
      ]
    },
    {
      "cell_type": "markdown",
      "metadata": {
        "id": "byKuUlLWG6Lc"
      },
      "source": [
        "Загрузим датасет с помощью функций torchvision фреймворка PyTorch, с которым мы познакомимся дальше в курсе значительно ближе.\n",
        "\n",
        "Отметьте, что мы загружаем малую часть датасета для ускорения рассчётов, а также сразу проводим базовую нормировку для изображений. Далее в курсе вы познакомитесь с тем, как эффективнее работать с изображениями."
      ]
    },
    {
      "cell_type": "code",
      "execution_count": null,
      "metadata": {
        "id": "UPCCB13qG6Ld"
      },
      "outputs": [],
      "source": [
        "dataset = datasets.CIFAR10(\"content\", train=True, download=True)\n",
        "\n",
        "np.random.seed(42)\n",
        "data, _, labels, _ = train_test_split(\n",
        "    dataset.data / 255,  # Normalize\n",
        "    np.array(dataset.targets),\n",
        "    train_size=0.1,  # get only fraction of the dataset\n",
        "    random_state=42,\n",
        "    stratify=dataset.targets,\n",
        ")"
      ]
    },
    {
      "cell_type": "markdown",
      "metadata": {
        "id": "d82wQp-SG6Ld"
      },
      "source": [
        "Посмотрим, что это за датасет."
      ]
    },
    {
      "cell_type": "code",
      "execution_count": null,
      "metadata": {
        "id": "85LdTb51G6Ld"
      },
      "outputs": [],
      "source": [
        "data.shape"
      ]
    },
    {
      "cell_type": "code",
      "execution_count": null,
      "metadata": {
        "id": "jqOaTfiMG6Ld"
      },
      "outputs": [],
      "source": [
        "data[0][0]"
      ]
    },
    {
      "cell_type": "markdown",
      "metadata": {
        "id": "RLRmCqKVG6Le"
      },
      "source": [
        "CIFAR-10 — 4-хмерный массив $\\small (N, W, H, C)$, где $\\small N$ — количество картинок, $\\small W$ — ширина картинки, $\\small H$ — высота картинки, $\\small C$ — количество каналов (RGB)."
      ]
    },
    {
      "cell_type": "markdown",
      "metadata": {
        "id": "0k-FPeSQG6Le"
      },
      "source": [
        "Создайте subplots с 2-мя строками и 2-мя столбцами и отобразите 4 любых картинки из `data`.\n",
        "Используйте `plt.imshow()`."
      ]
    },
    {
      "cell_type": "code",
      "execution_count": null,
      "metadata": {
        "id": "MuN4C39uG6Le"
      },
      "outputs": [],
      "source": [
        "fig, ax = # Your code here\n",
        "\n",
        "ax[0, 0].# Your code here\n",
        "ax[0, 1].# Your code here\n",
        "ax[1, 0].# Your code here\n",
        "ax[1, 1].# Your code here\n",
        "plt.show()"
      ]
    },
    {
      "cell_type": "markdown",
      "metadata": {
        "id": "CtG3uGZfG6Le"
      },
      "source": [
        "Разбейте датасет на тренировочный, валидационный и тестовый наборы. Укажите аргументы `random_state=42`, `stratify`."
      ]
    },
    {
      "cell_type": "code",
      "execution_count": null,
      "metadata": {
        "id": "aziXVATlG6Le"
      },
      "outputs": [],
      "source": [
        "# Your code here\n",
        "\n",
        "print(\"x_train\", x_train.shape)\n",
        "print(\"x_train\", x_val.shape)\n",
        "print(\"x_test\", x_test.shape)"
      ]
    },
    {
      "cell_type": "markdown",
      "metadata": {
        "id": "tH2j6rCSG6Le"
      },
      "source": [
        "Возьмите первую картинку из валидационного набора и найдите ее ближайшего соседа из тренировочного. **Не используйте** в задании библиотечную реализацию k-NN."
      ]
    },
    {
      "cell_type": "code",
      "execution_count": null,
      "metadata": {
        "id": "sPHSaRtiG6Lf"
      },
      "outputs": [],
      "source": [
        "def compute_L1(a, b):\n",
        "    return  # Your code here"
      ]
    },
    {
      "cell_type": "code",
      "execution_count": null,
      "metadata": {
        "id": "oIxGW2w3G6Lf"
      },
      "outputs": [],
      "source": [
        "# Your code here\n",
        "\n",
        "distances = # Your code here"
      ]
    },
    {
      "cell_type": "code",
      "execution_count": null,
      "metadata": {
        "id": "KgTh__-8G6Lf"
      },
      "outputs": [],
      "source": [
        "indx = # Your code here\n",
        "print(indx)"
      ]
    },
    {
      "cell_type": "markdown",
      "metadata": {
        "id": "KItvnyh0G6Lf"
      },
      "source": [
        "**Отобразите эти картинки на subplots с `ncols=2`**"
      ]
    },
    {
      "cell_type": "code",
      "execution_count": null,
      "metadata": {
        "id": "IBRzuqWGG6Lg"
      },
      "outputs": [],
      "source": [
        "fig, ax = # Your code here\n",
        "ax[0].# Your code here\n",
        "ax[1].# Your code here\n",
        "plt.show()"
      ]
    },
    {
      "cell_type": "markdown",
      "metadata": {
        "id": "3Vs7JPi2G6Lg"
      },
      "source": [
        "**Посмотрите, какой класс предсказывается**"
      ]
    },
    {
      "cell_type": "code",
      "execution_count": null,
      "metadata": {
        "id": "99X0MLQeG6Lg"
      },
      "outputs": [],
      "source": [
        "class_pred = y_train[indx]\n",
        "class_to_idx = dataset.class_to_idx\n",
        "\n",
        "print(list(class_to_idx.keys())[list(class_to_idx.values()).index(class_pred)])"
      ]
    },
    {
      "cell_type": "markdown",
      "metadata": {
        "id": "VLPLUxNYG6Lg"
      },
      "source": [
        "Возьмите первую картинку из тестового набора и найдите k ее ближайших соседей (k-NN) из тренировочного набора.\n",
        "\n",
        "Используйте `np.argsort()` или иной способ."
      ]
    },
    {
      "cell_type": "code",
      "execution_count": null,
      "metadata": {
        "id": "JwiFoEE-G6Lh"
      },
      "outputs": [],
      "source": [
        "k = 5\n",
        "indx = # Your code here"
      ]
    },
    {
      "cell_type": "markdown",
      "metadata": {
        "id": "vINrdoCGG6Lh"
      },
      "source": [
        "Отобразите ближайших соседей в виде subplots:"
      ]
    },
    {
      "cell_type": "code",
      "execution_count": null,
      "metadata": {
        "id": "rT1OynuWG6Lh"
      },
      "outputs": [],
      "source": [
        "fig, ax = # Your code here\n",
        "# Your code here\n",
        "plt.show()"
      ]
    },
    {
      "cell_type": "markdown",
      "metadata": {
        "id": "I5j_N5OkG6Li"
      },
      "source": [
        "Посчитайте k-NN для всего датасета."
      ]
    },
    {
      "cell_type": "markdown",
      "metadata": {
        "id": "Tj-htzPTG6Ll"
      },
      "source": [
        "Чем больше данных, тем дольше процесс. Реализуйте функцию для расчета расстояний. Если вы используете `for loops`, то сделайте к ним *progress bars* с помощью [tqdm](https://github.com/tqdm/tqdm).\n",
        "\n",
        "Примечание: если используете вложенные циклы, то используйте `tqdm` только на внешнем цикле. Иначе время работы существенно увеличится."
      ]
    },
    {
      "cell_type": "code",
      "execution_count": null,
      "metadata": {
        "id": "CMZb8pqcG6Lm"
      },
      "outputs": [],
      "source": [
        "def compute_distances(train, val, distance_func):\n",
        "    # Your code here\n",
        "\n",
        "    return distances"
      ]
    },
    {
      "cell_type": "code",
      "execution_count": null,
      "metadata": {
        "id": "c1gKxog8G6Ln"
      },
      "outputs": [],
      "source": [
        "distances = compute_distances(x_train, x_val, compute_L1)"
      ]
    },
    {
      "cell_type": "markdown",
      "metadata": {
        "id": "Ks04m7Z_G6Lo"
      },
      "source": [
        "Теперь найдите k ближайших соседей и предскажите класс.\n",
        "\n",
        "Используйте моду [scipy.stats.mode](https://docs.scipy.org/doc/scipy/reference/generated/scipy.stats.mode.html) по ближайшим найденным соседям."
      ]
    },
    {
      "cell_type": "code",
      "execution_count": null,
      "metadata": {
        "id": "oXZ2aO08G6Lo"
      },
      "outputs": [],
      "source": [
        "def get_accuracy(distances, train_labels, val_labels, k):\n",
        "    # Your code here\n",
        "    return accuracy"
      ]
    },
    {
      "cell_type": "code",
      "execution_count": null,
      "metadata": {
        "id": "5Yh1qsqSG6Lp"
      },
      "outputs": [],
      "source": [
        "accuracy = get_accuracy(distances, y_train, y_val, k)\n",
        "print(f\"Accuracy = {accuracy * 100:.0f}%\")"
      ]
    },
    {
      "cell_type": "markdown",
      "metadata": {
        "id": "WcWcPwqGG6Lp"
      },
      "source": [
        "**Посчитайте точность для k=1..100 и постройте график точности от k**"
      ]
    },
    {
      "cell_type": "code",
      "execution_count": null,
      "metadata": {
        "id": "YQogP3D3G6Lq"
      },
      "outputs": [],
      "source": [
        "acc = []\n",
        "for k in range(1, 100):\n",
        "    # Your code here"
      ]
    },
    {
      "cell_type": "code",
      "execution_count": null,
      "metadata": {
        "id": "cBxulq6EG6Lq"
      },
      "outputs": [],
      "source": [
        "plt.# Your code here\n",
        "plt.show()"
      ]
    },
    {
      "cell_type": "markdown",
      "metadata": {
        "id": "WRUgRF5ZG6Lq"
      },
      "source": [
        "Поменяйте расстоянние L1 на L2 и сравните точность на всем датасете."
      ]
    },
    {
      "cell_type": "code",
      "execution_count": null,
      "metadata": {
        "id": "8RBbkuDlG6Lr"
      },
      "outputs": [],
      "source": [
        "def compute_L2(a, b):\n",
        "    return  # Your code here"
      ]
    },
    {
      "cell_type": "code",
      "execution_count": null,
      "metadata": {
        "id": "rvYJTEV0G6Lr"
      },
      "outputs": [],
      "source": [
        "distances_l2 = compute_distances(x_train, x_val, compute_L2)"
      ]
    },
    {
      "cell_type": "code",
      "execution_count": null,
      "metadata": {
        "id": "bzm4VC_BG6Lr"
      },
      "outputs": [],
      "source": [
        "acc_l2 = []\n",
        "for k in range(1, 100):\n",
        "    # Your code here"
      ]
    },
    {
      "cell_type": "code",
      "execution_count": null,
      "metadata": {
        "id": "Hfp-ooMEG6Lr"
      },
      "outputs": [],
      "source": [
        "plt.# Your code here\n",
        "plt.# Your code here\n",
        "plt.legend()\n",
        "plt.show()"
      ]
    },
    {
      "cell_type": "markdown",
      "metadata": {
        "id": "w-oktxx2G6Ls"
      },
      "source": [
        "Теперь, выбрав оптимальные параметры с помощью валидационного сета, проверьте качество на **тесте**..\n",
        "\n",
        "*Примечание*. Для минимизации повторения кода можете сделать функцию из кода выше, в которую в качестве аргументов подаются различные наборы данных."
      ]
    },
    {
      "cell_type": "code",
      "execution_count": null,
      "metadata": {
        "id": "-J8YbMpZG6Ls"
      },
      "outputs": [],
      "source": [
        "# Your code here"
      ]
    },
    {
      "cell_type": "markdown",
      "metadata": {
        "id": "j9ICH3npG6Ls"
      },
      "source": [
        "Совпали ли результаты с валидацией? Как думаете, почему?"
      ]
    },
    {
      "cell_type": "markdown",
      "metadata": {
        "id": "8etEUTbUG6Lt"
      },
      "source": [
        "## Формат результата"
      ]
    },
    {
      "cell_type": "markdown",
      "metadata": {
        "id": "IwT6AWeXG6Lt"
      },
      "source": [
        "* График сравнения точности для L1 и L2 при различных k. Выведите на одном графике результаты для валидации и теста.\n",
        "* Число k, при котором достигается лучшая точность.\n",
        "* Точность на тесте."
      ]
    },
    {
      "cell_type": "markdown",
      "metadata": {
        "id": "BSbCtkrJG6Lt"
      },
      "source": [
        "Пример графика:\n",
        "\n",
        "<img src =\"https://edunet.kea.su/repo/EduNet-web_dependencies/dev-2.0/Exercises/EX01/result_4_task.png\" width=\"300\">"
      ]
    },
    {
      "cell_type": "markdown",
      "metadata": {
        "id": "uMiv4ukrG6Lt"
      },
      "source": [
        "# Задание 4. Реализация k-NN"
      ]
    },
    {
      "cell_type": "markdown",
      "metadata": {
        "id": "1i7L3YmIG6Lu"
      },
      "source": [
        "В этом задании мы поработаем в концепции ОПП (Объектно-Ориентированного Программирования).\n",
        "\n",
        "[ООП на Python: концепции, принципы и примеры реализации](https://proglib.io/p/python-oop)\n",
        "\n",
        "Создайте класс k-NN и реализуйте его методы."
      ]
    },
    {
      "cell_type": "markdown",
      "metadata": {
        "id": "V2GVNYMdG6Lu"
      },
      "source": [
        "Импорт необходимых библиотек:"
      ]
    },
    {
      "cell_type": "code",
      "execution_count": null,
      "metadata": {
        "id": "QbPMO5eQG6Lu"
      },
      "outputs": [],
      "source": [
        "import numpy as np\n",
        "from scipy.stats import mode\n",
        "from torchvision import datasets\n",
        "from sklearn.neighbors import KNeighborsClassifier\n",
        "from sklearn.model_selection import train_test_split"
      ]
    },
    {
      "cell_type": "markdown",
      "metadata": {
        "id": "PcBavtbhG6Lu"
      },
      "source": [
        "Функция, которая считает расстояние L1 между 2-мя векторами:"
      ]
    },
    {
      "cell_type": "code",
      "execution_count": null,
      "metadata": {
        "id": "MM4V38EYG6Lv"
      },
      "outputs": [],
      "source": [
        "def compute_L1(a, b):\n",
        "    return  # Your code here"
      ]
    },
    {
      "cell_type": "markdown",
      "metadata": {
        "id": "1aCdGn_2G6Lv"
      },
      "source": [
        "Загрузите датасет CIFAR-10 и разбейте его на тренировочный, валидационный и тестовый наборы аналогично тому, как вы сделали это в задании 3. Укажите аргументы `random_state=42`, `stratify`."
      ]
    },
    {
      "cell_type": "code",
      "execution_count": null,
      "metadata": {
        "id": "paGEQCz4G6Lv"
      },
      "outputs": [],
      "source": [
        "dataset = datasets.CIFAR10(\"content\", train=True, download=True)\n",
        "\n",
        "np.random.seed(42)\n",
        "data, _, labels, _ = train_test_split(\n",
        "    dataset.data / 255,  # Normalize\n",
        "    np.array(dataset.targets),\n",
        "    train_size=0.1,  # get only fraction of the dataset\n",
        "    random_state=42,\n",
        "    stratify=dataset.targets,\n",
        ")\n",
        "\n",
        "# Your code here"
      ]
    },
    {
      "cell_type": "markdown",
      "metadata": {
        "id": "ZrD5p-viG6Lv"
      },
      "source": [
        "Создайте класс k-NN и реализуйте его методы."
      ]
    },
    {
      "cell_type": "code",
      "execution_count": null,
      "metadata": {
        "id": "SeXXIqs3G6Lw"
      },
      "outputs": [],
      "source": [
        "class kNN:\n",
        "    def __init__(self, k, distance_func):\n",
        "        self.k = # Your code here\n",
        "        self.distance_func = # Your code here\n",
        "\n",
        "    def fit(self, x, y):\n",
        "        self.train_data = # Your code here\n",
        "        self.train_labels = # Your code here\n",
        "\n",
        "    def predict(self, x):\n",
        "        distances = self.compute_distances(x)\n",
        "        indexes = np.argsort(distances, axis=1)[:, :self.k]\n",
        "        labels_of_top_classes = self.train_labels[indexes]\n",
        "        predicted_class, _ = mode(labels_of_top_classes, axis=1, keepdims=True)\n",
        "        return predicted_class.flatten()\n",
        "\n",
        "    def compute_distances(self, test):\n",
        "        # Your code here\n",
        "\n",
        "        return distances"
      ]
    },
    {
      "cell_type": "code",
      "execution_count": null,
      "metadata": {
        "id": "PLNXdqQPG6Lw"
      },
      "outputs": [],
      "source": [
        "kNN_classifier = kNN(k=1, distance_func=compute_L1)\n",
        "kNN_classifier.fit(x=x_train, y=y_train)\n",
        "out = kNN_classifier.predict(x_test)"
      ]
    },
    {
      "cell_type": "code",
      "execution_count": null,
      "metadata": {
        "id": "7zWCrEiQG6Lw"
      },
      "outputs": [],
      "source": [
        "np.mean(y_test == out)"
      ]
    },
    {
      "cell_type": "markdown",
      "metadata": {
        "id": "cMpzQVlFG6Lx"
      },
      "source": [
        "Сравните время работы вашей реализации и реализации из sklearn. Используйте `%%time`."
      ]
    },
    {
      "cell_type": "code",
      "execution_count": null,
      "metadata": {
        "id": "0EQlgHQtG6Lx"
      },
      "outputs": [],
      "source": [
        "# Your code here"
      ]
    },
    {
      "cell_type": "code",
      "execution_count": null,
      "metadata": {
        "id": "BA550JkOG6Lx"
      },
      "outputs": [],
      "source": [
        "# Your code here"
      ]
    },
    {
      "cell_type": "code",
      "execution_count": null,
      "metadata": {
        "id": "DoBem_9TG6Ly"
      },
      "outputs": [],
      "source": [
        "# Your code here"
      ]
    },
    {
      "cell_type": "markdown",
      "metadata": {
        "id": "OKILP2IbG6Ly"
      },
      "source": [
        "**Оптимальный k-NN. Погружение в ООП**\n",
        "\n",
        "Эта часть задания даёт дополнительные баллы и не обязательна к выполнению.\n",
        "\n",
        "Реализуйте выбор ближайших соседей эффективно. Можно сделать [KD дерево](https://scikit-learn.org/stable/modules/generated/sklearn.neighbors.KDTree.html#sklearn.neighbors.KDTree), таким образом мы приблизимся к библиотечной реализации.\n",
        "\n",
        "[[wiki] K-d tree](https://en.m.wikipedia.org/wiki/K-d_tree).\n",
        "\n",
        "И сравните по эффективности как с исходной (простой) реализацией, так и с библиотечной."
      ]
    },
    {
      "cell_type": "code",
      "execution_count": null,
      "metadata": {
        "id": "M7Rmsc8TG6Ly"
      },
      "outputs": [],
      "source": [
        "# Your code here"
      ]
    },
    {
      "cell_type": "markdown",
      "metadata": {
        "id": "lavCGz0tG6Lz"
      },
      "source": [
        "## Формат результата"
      ]
    },
    {
      "cell_type": "markdown",
      "metadata": {
        "id": "0SJtsEnrG6Lz"
      },
      "source": [
        "Демонстрация времени работы вашей реализации и реализации из sklearn (с помощью %%time)"
      ]
    }
  ],
  "metadata": {
    "colab": {
      "provenance": [],
      "include_colab_link": true
    },
    "language_info": {
      "name": "python"
    },
    "kernelspec": {
      "name": "python3",
      "display_name": "Python 3"
    }
  },
  "nbformat": 4,
  "nbformat_minor": 0
}
